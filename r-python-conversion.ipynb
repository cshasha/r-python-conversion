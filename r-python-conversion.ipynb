{
 "cells": [
  {
   "cell_type": "markdown",
   "metadata": {},
   "source": [
    "# Conversion between R and Python objects\n",
    "This notebook covers two general methods for converting between R SingleCellExperiment objects and Python AnnData objects. Information about the AnnData format can be found [here](https://anndata.readthedocs.io/en/stable/)."
   ]
  },
  {
   "cell_type": "markdown",
   "metadata": {},
   "source": [
    "## 0. Load libraries\n",
    "This notebook uses rpy2 to run both R and Python."
   ]
  },
  {
   "cell_type": "code",
   "execution_count": 1,
   "metadata": {},
   "outputs": [],
   "source": [
    "import anndata2ri\n",
    "from rpy2.robjects import r\n",
    "\n",
    "anndata2ri.activate()\n",
    "%load_ext rpy2.ipython\n",
    "\n",
    "import rpy2.rinterface_lib.callbacks\n",
    "import logging\n",
    "rpy2.rinterface_lib.callbacks.logger.setLevel(logging.ERROR)"
   ]
  },
  {
   "cell_type": "markdown",
   "metadata": {},
   "source": [
    "## 1. Using Loom files\n",
    "SCE and AnnData objects can be exported as Loom files, which can then be read into both R and Python. The Loom file format is based on HDF5. Loom file format specs can be found [here](https://linnarssonlab.org/loompy/format/index.html). The Loom file format preserves the original count matrix as well as all annotations. "
   ]
  },
  {
   "cell_type": "markdown",
   "metadata": {},
   "source": [
    "### 1.1. Exporting Loom file from R\n",
    "This uses the LoomExperiment package in R."
   ]
  },
  {
   "cell_type": "code",
   "execution_count": 2,
   "metadata": {},
   "outputs": [],
   "source": [
    "%%R\n",
    "library(scRNAseq)\n",
    "library(LoomExperiment)\n",
    "library(AnnotationHub)\n",
    "library(scater)\n",
    "\n",
    "# Load in data, preprocess\n",
    "sce.416b <- LunSpikeInData(which=\"416b\")\n",
    "sce.416b$block <- factor(sce.416b$block)\n",
    "\n",
    "# Rename rows with symbols\n",
    "ens.mm.v97 <- AnnotationHub()[[\"AH73905\"]]\n",
    "rowData(sce.416b)$ENSEMBL <- rownames(sce.416b)\n",
    "rowData(sce.416b)$SYMBOL <- mapIds(ens.mm.v97, keys=rownames(sce.416b),\n",
    "    keytype=\"GENEID\", column=\"SYMBOL\")\n",
    "rowData(sce.416b)$SEQNAME <- mapIds(ens.mm.v97, keys=rownames(sce.416b),\n",
    "    keytype=\"GENEID\", column=\"SEQNAME\")\n",
    "rownames(sce.416b) <- uniquifyFeatureNames(rowData(sce.416b)$ENSEMBL, \n",
    "                                           rowData(sce.416b)$SYMBOL)\n",
    "\n",
    "# Convert and export to Loom file\n",
    "scle.416b <- LoomExperiment(sce.416b)\n",
    "export(scle.416b, 'scle416b.loom')"
   ]
  },
  {
   "cell_type": "markdown",
   "metadata": {},
   "source": [
    "### 1.2. Importing Loom file in Python\n",
    "This requires the scanpy package:"
   ]
  },
  {
   "cell_type": "code",
   "execution_count": 3,
   "metadata": {},
   "outputs": [
    {
     "data": {
      "text/plain": [
       "AnnData object with n_obs × n_vars = 192 × 46604 \n",
       "    obs: 'Source.Name', 'block', 'cell.line', 'cell.type', 'colnames', 'genotype', 'phenotype', 'single.cell.well.quality', 'spike.in.addition', 'strain'\n",
       "    var: 'ENSEMBL', 'Length', 'SEQNAME', 'SYMBOL', 'rownames'"
      ]
     },
     "execution_count": 3,
     "metadata": {},
     "output_type": "execute_result"
    }
   ],
   "source": [
    "import scanpy as sc\n",
    "\n",
    "adata = sc.read_loom(\"scle416b.loom\")\n",
    "adata"
   ]
  },
  {
   "cell_type": "markdown",
   "metadata": {},
   "source": [
    "## 2. Converting between objects within a notebook\n",
    "With the rpy2 package, both R and Python can be run within the same notebook. The [anndata2ri package](https://github.com/theislab/anndata2ri) allows conversion between SingleCellExperiment and AnnData objects within a notebook (must be activated while loading rpy2, as above). Two methods are shown here."
   ]
  },
  {
   "cell_type": "markdown",
   "metadata": {},
   "source": [
    "### 2.1. Using an R code block\n",
    "Inputs and outputs to the R code block can be specified using -i and -o. With anndata2ri activated, any AnnData object passed in to an R code block will be automatically converted to a SingleCellExperiment object. Similarly, any SingleCellExperiment object that is output from an R code block will be automatically converted to an AnnData object."
   ]
  },
  {
   "cell_type": "code",
   "execution_count": 4,
   "metadata": {},
   "outputs": [],
   "source": [
    "%%R -o adata\n",
    "library(scRNAseq)\n",
    "sce.416b <- LunSpikeInData(which=\"416b\")\n",
    "adata <- as(sce.416b, 'SingleCellExperiment')"
   ]
  },
  {
   "cell_type": "code",
   "execution_count": 5,
   "metadata": {},
   "outputs": [
    {
     "data": {
      "text/plain": [
       "AnnData object with n_obs × n_vars = 192 × 46604 \n",
       "    obs: 'Source Name', 'cell line', 'cell type', 'single cell well quality', 'genotype', 'phenotype', 'strain', 'spike-in addition', 'block'\n",
       "    var: 'Length'"
      ]
     },
     "execution_count": 5,
     "metadata": {},
     "output_type": "execute_result"
    }
   ],
   "source": [
    "adata"
   ]
  },
  {
   "cell_type": "code",
   "execution_count": 6,
   "metadata": {},
   "outputs": [
    {
     "name": "stdout",
     "output_type": "stream",
     "text": [
      "class: SingleCellExperiment \n",
      "dim: 46604 192 \n",
      "metadata(0):\n",
      "assays(1): X\n",
      "rownames(46604): ENSMUSG00000102693 ENSMUSG00000064842 ...\n",
      "  ENSMUSG00000095742 CBFB-MYH11-mcherry\n",
      "rowData names(1): Length\n",
      "colnames(192): SLX-9555.N701_S502.C89V9ANXX.s_1.r_1\n",
      "  SLX-9555.N701_S503.C89V9ANXX.s_1.r_1 ...\n",
      "  SLX-11312.N712_S508.H5H5YBBXX.s_8.r_1\n",
      "  SLX-11312.N712_S517.H5H5YBBXX.s_8.r_1\n",
      "colData names(9): Source.Name cell.line ... spike.in.addition block\n",
      "reducedDimNames(0):\n",
      "spikeNames(0):\n",
      "altExpNames(0):\n"
     ]
    }
   ],
   "source": [
    "%%R -i adata\n",
    "adata"
   ]
  },
  {
   "cell_type": "markdown",
   "metadata": {},
   "source": [
    "### 2.2. Inline\n",
    "Conversion to an AnnData object can also be done in a single line:"
   ]
  },
  {
   "cell_type": "code",
   "execution_count": 7,
   "metadata": {},
   "outputs": [
    {
     "data": {
      "text/plain": [
       "AnnData object with n_obs × n_vars = 192 × 46604 \n",
       "    obs: 'Source Name', 'cell line', 'cell type', 'single cell well quality', 'genotype', 'phenotype', 'strain', 'spike-in addition', 'block'\n",
       "    var: 'Length'"
      ]
     },
     "execution_count": 7,
     "metadata": {},
     "output_type": "execute_result"
    }
   ],
   "source": [
    "adata = r('as(sce.416b, \"SingleCellExperiment\")')\n",
    "adata"
   ]
  },
  {
   "cell_type": "markdown",
   "metadata": {},
   "source": [
    "## 3. A few notes\n",
    "Conversion is not always perfect; there are a few small issues with naming conventions that can arise. For example, when reading in data to Python as a Loom file, often the gene ids are read in as a separate column in adata.var rather than as the index. This may need to be manually adjusted:"
   ]
  },
  {
   "cell_type": "code",
   "execution_count": 8,
   "metadata": {},
   "outputs": [],
   "source": [
    "adata = sc.read_loom(\"scle416b.loom\")\n",
    "adata.var = adata.var.rename(columns={\"rownames\": \"gene_ids\"})\n",
    "adata.var.index = adata.var.gene_ids"
   ]
  },
  {
   "cell_type": "markdown",
   "metadata": {},
   "source": [
    "Also, column naming conventions between R and Python often differ. Periods and spaces should not be used for column names, so it may be necessary to replace periods and spaces with an underscore:"
   ]
  },
  {
   "cell_type": "code",
   "execution_count": 9,
   "metadata": {},
   "outputs": [],
   "source": [
    "adata.obs.columns = adata.obs.columns.str.strip().str.lower().str.replace(' ', '_').str.replace('.', '_')"
   ]
  },
  {
   "cell_type": "markdown",
   "metadata": {},
   "source": [
    "The AnnData object uses a sparse data matrix format to store the counts matrix. Sometimes when converting directly from R, this format is not preserved. For certain functions, it may be necessary to manually convert the counts matrix to a sparse matrix:"
   ]
  },
  {
   "cell_type": "code",
   "execution_count": 10,
   "metadata": {},
   "outputs": [],
   "source": [
    "from scipy.sparse import csr_matrix\n",
    "adata = rpy2.robjects.r('sce.416b')\n",
    "adata.X = csr_matrix(adata.X)"
   ]
  },
  {
   "cell_type": "markdown",
   "metadata": {},
   "source": [
    "Finally, when reading an AnnData into R, the counts matrix automatically gets labeled \"X\" rather than \"counts\". For some Bioconductor function, this becomes problematic. It may be necessary to rename the matrix \"counts\" (or \"logcounts\" if the data has been log-normalized) before applying the desired operations:"
   ]
  },
  {
   "cell_type": "code",
   "execution_count": 11,
   "metadata": {},
   "outputs": [
    {
     "name": "stdout",
     "output_type": "stream",
     "text": [
      "class: SingleCellExperiment \n",
      "dim: 46604 192 \n",
      "metadata(0):\n",
      "assays(1): X\n",
      "rownames(46604): ENSMUSG00000102693 ENSMUSG00000064842 ...\n",
      "  ENSMUSG00000095742 CBFB-MYH11-mcherry\n",
      "rowData names(1): Length\n",
      "colnames(192): SLX-9555.N701_S502.C89V9ANXX.s_1.r_1\n",
      "  SLX-9555.N701_S503.C89V9ANXX.s_1.r_1 ...\n",
      "  SLX-11312.N712_S508.H5H5YBBXX.s_8.r_1\n",
      "  SLX-11312.N712_S517.H5H5YBBXX.s_8.r_1\n",
      "colData names(9): Source.Name cell.line ... spike.in.addition block\n",
      "reducedDimNames(0):\n",
      "spikeNames(0):\n",
      "altExpNames(0):\n"
     ]
    }
   ],
   "source": [
    "%%R -i adata\n",
    "names(assays(adata)) <- \"counts\" # or \"logcounts\" if log-normalized\n",
    "adata"
   ]
  },
  {
   "cell_type": "code",
   "execution_count": null,
   "metadata": {},
   "outputs": [],
   "source": []
  }
 ],
 "metadata": {
  "kernelspec": {
   "display_name": "Python 3",
   "language": "python",
   "name": "python3"
  },
  "language_info": {
   "codemirror_mode": {
    "name": "ipython",
    "version": 3
   },
   "file_extension": ".py",
   "mimetype": "text/x-python",
   "name": "python",
   "nbconvert_exporter": "python",
   "pygments_lexer": "ipython3",
   "version": "3.7.4"
  }
 },
 "nbformat": 4,
 "nbformat_minor": 2
}
